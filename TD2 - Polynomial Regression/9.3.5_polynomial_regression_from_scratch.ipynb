{
 "cells": [
  {
   "cell_type": "markdown",
   "metadata": {},
   "source": [
    "<b>Exercise: Implementing Polynomial Regression from Scratch with Diabetes Dataset</b>\n",
    "\n",
    "\n",
    "<b>Objective:</b>\n",
    "\n",
    "Implement polynomial regression from scratch using the Diabetes dataset to understand how to extend linear regression for capturing non-linear relationships.\n",
    "\n",
    "<b>Step 1: Load and Explore the Dataset</b>\n",
    "\n",
    "Load the Diabetes dataset and explore its features. Familiarize yourself with the dataset structure and the target variable (disease progression one year after baseline)."
   ]
  },
  {
   "cell_type": "code",
   "execution_count": 115,
   "metadata": {},
   "outputs": [],
   "source": [
    "import numpy as np\n",
    "from sklearn.datasets import load_diabetes\n",
    "from sklearn.model_selection import train_test_split\n",
    "from sklearn.preprocessing import StandardScaler\n",
    "\n",
    "# Load the diabetes dataset\n",
    "diabetes = load_diabetes()\n",
    "data, target = diabetes.data, diabetes.target"
   ]
  },
  {
   "cell_type": "markdown",
   "metadata": {},
   "source": [
    "<b>Step 2: Split the Dataset</b>\n",
    "\n",
    "Split the dataset into training and testing sets. This will allow us to train the model on one subset and evaluate its performance on another."
   ]
  },
  {
   "cell_type": "code",
   "execution_count": 116,
   "metadata": {},
   "outputs": [],
   "source": [
    "# Split the dataset into training and testing sets\n",
    "X_train, X_test, y_train, y_test = train_test_split(data, target, test_size=0.2, random_state=42)"
   ]
  },
  {
   "cell_type": "code",
   "execution_count": 117,
   "metadata": {},
   "outputs": [],
   "source": [
    "# Scale the data\n",
    "scaler = StandardScaler()\n",
    "X_train = scaler.fit_transform(X_train)\n",
    "X_test = scaler.transform(X_test)"
   ]
  },
  {
   "cell_type": "markdown",
   "metadata": {},
   "source": [
    "<b>Step 3: Implement Polynomial Features Function</b>\n",
    "\n",
    "Implement a function to transform the input features into polynomial features of a given degree. This function will take the original features and create new features by raising them to different powers."
   ]
  },
  {
   "cell_type": "code",
   "execution_count": 118,
   "metadata": {},
   "outputs": [],
   "source": [
    "def polynomial_features(X, degree):\n",
    "    \"\"\"\n",
    "    Transform the input features into polynamial features of a given degree\n",
    "    :X: input features\n",
    "    :degree: polynamial degree\n",
    "    :return: new features raised to different powers\n",
    "    \"\"\"\n",
    "    # Create an empty matrix to store new features\n",
    "    X_poly = np.empty((len(X), degree+1))\n",
    "\n",
    "    # From 0 to degree, calculate the corresponding power of X and store it in X_poly. \n",
    "    for i in range(degree+1):\n",
    "        X_poly[:, i] = X[:, 0]**i \n",
    "    return X_poly"
   ]
  },
  {
   "cell_type": "markdown",
   "metadata": {},
   "source": [
    "<b>Step 4: Implement Polynomial Regression Class</b>\n",
    "\n",
    "Create a class for polynomial linear regression with methods for fitting the model and making predictions. Use mean squared error as the cost function and gradient descent for optimization."
   ]
  },
  {
   "cell_type": "code",
   "execution_count": 119,
   "metadata": {},
   "outputs": [],
   "source": [
    "class PolynomialRegression:\n",
    "    def __init__(self, degree, learning_rate=0.001, n_iterations=100):\n",
    "        # Initialization code here\n",
    "        self.degree = degree\n",
    "        self.learning_rate = learning_rate\n",
    "        self.n_iterations = n_iterations\n",
    "        self.theta = None\n",
    "    \n",
    "    def polynomial_features(self, X):\n",
    "        # Create an empty matrix to store new features\n",
    "        X_poly = np.empty((len(X), self.degree+1))\n",
    "        # From 0 to degree, calculate the corresponding power of X and store it in X_poly. \n",
    "        for i in range(self.degree+1):\n",
    "            X_poly[:, i] = X[:, 0]**i\n",
    "        return X_poly\n",
    "    \n",
    "    def fit(self, X, y):\n",
    "        \"\"\"\n",
    "        Train the polynomial regression model.\n",
    "        :X: input features\n",
    "        :y: target features\n",
    "        \"\"\"\n",
    "        # Transform the input features into polynomial features\n",
    "        X_poly = self.polynomial_features(X)\n",
    "        # Initialize model parameters\n",
    "        self.theta = np.zeros(X_poly.shape[1])\n",
    "\n",
    "        \n",
    "        for _ in range(self.n_iterations):\n",
    "            # Calculate the error using the difference between predicted target values and actual target values\n",
    "            error = np.dot(X_poly, self.theta) - y\n",
    "\n",
    "            # Calculate the gradient with respect to the parameter theta\n",
    "            gradient = (2 / X_poly.shape[0]) * np.dot(X_poly.T, error)\n",
    "\n",
    "            # Update theta by subtracting the product of the learning rate and the gradient\n",
    "            self.theta -= self.learning_rate * gradient\n",
    "    \n",
    "    def predict(self, X):\n",
    "        \"\"\"\n",
    "        Generate predictions for X.\n",
    "        :X: input features\n",
    "        :return: predictions\n",
    "        \"\"\"\n",
    "        # Transform the input features into polynomial features\n",
    "        X_poly = self.polynomial_features(X)\n",
    "        # Generate predictions based on theta\n",
    "        return np.dot(X_poly, self.theta)\n",
    "        "
   ]
  },
  {
   "cell_type": "markdown",
   "metadata": {},
   "source": [
    "<b>Step 5: Train and Evaluate the Model</b>\n",
    "\n",
    "Instantiate the <i>'PolynomialRegression'</i> class, fit the model to the training set, and evaluate its performance on the test set."
   ]
  },
  {
   "cell_type": "code",
   "execution_count": 130,
   "metadata": {},
   "outputs": [
    {
     "name": "stdout",
     "output_type": "stream",
     "text": [
      "Mean Squared Error on Test Set: 14197.452402381148\n"
     ]
    }
   ],
   "source": [
    "# Instantiate and train the polynomial regression model\n",
    "model = PolynomialRegression(degree=2, learning_rate=0.001, n_iterations=100)\n",
    "model.fit(X_train, y_train)\n",
    "\n",
    "# Make predictions on the test set\n",
    "predictions = model.predict(X_test)\n",
    "\n",
    "# Evaluate the model (calculate and print mean squared error)\n",
    "mse = np.mean((predictions - y_test) ** 2)\n",
    "print(f\"Mean Squared Error on Test Set: {mse}\")"
   ]
  }
 ],
 "metadata": {
  "kernelspec": {
   "display_name": "base",
   "language": "python",
   "name": "python3"
  },
  "language_info": {
   "codemirror_mode": {
    "name": "ipython",
    "version": 3
   },
   "file_extension": ".py",
   "mimetype": "text/x-python",
   "name": "python",
   "nbconvert_exporter": "python",
   "pygments_lexer": "ipython3",
   "version": "3.12.1"
  }
 },
 "nbformat": 4,
 "nbformat_minor": 2
}
