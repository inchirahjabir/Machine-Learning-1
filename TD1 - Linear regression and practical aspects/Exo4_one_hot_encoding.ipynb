{
 "cells": [
  {
   "attachments": {},
   "cell_type": "markdown",
   "metadata": {},
   "source": [
    "# One-hot-encoding\n",
    "\n",
    "To this exercise you will implement the one-hot-encoding algorithm from scratch.\n",
    "You can use pandas but not use scikit-learn to implement such algorithm\n",
    "\n",
    "You can use the code bellow or use a code of your own from scratch\n",
    "\n",
    "Hands on!"
   ]
  },
  {
   "cell_type": "code",
   "execution_count": 9,
   "metadata": {},
   "outputs": [],
   "source": [
    "import pandas as pd\n",
    "\n",
    "# Load the loans prediction dataset\n",
    "df = pd.read_csv(\"../data/data_loans.csv\")\n",
    "\n",
    "def one_hot_encoding(df, column_name):\n",
    "    \"\"\"\n",
    "    Perform one-hot-encoding on the specified column of the input dataframe\n",
    "    :param df: Dataframe to be encoded\n",
    "    :param column_name: Column name to be encoded\n",
    "    :return: Dataframe with one-hot-encoded columns\n",
    "    \"\"\"\n",
    "   #your code here\n",
    "\n",
    "# One-hot-encode the categorical column 'Loan_Status'\n",
    "df = one_hot_encoding(df, 'LoanStatus')"
   ]
  },
  {
   "cell_type": "code",
   "execution_count": null,
   "metadata": {},
   "outputs": [],
   "source": []
  }
 ],
 "metadata": {
  "kernelspec": {
   "display_name": "Python 3",
   "language": "python",
   "name": "python3"
  },
  "language_info": {
   "codemirror_mode": {
    "name": "ipython",
    "version": 3
   },
   "file_extension": ".py",
   "mimetype": "text/x-python",
   "name": "python",
   "nbconvert_exporter": "python",
   "pygments_lexer": "ipython3",
   "version": "3.7.15 (default, Nov 24 2022, 18:44:54) [MSC v.1916 64 bit (AMD64)]"
  },
  "orig_nbformat": 4,
  "vscode": {
   "interpreter": {
    "hash": "914a73f32d308ae8debcaf6a2c2af8e68613f922620f6864a793ea7cdc2482ad"
   }
  }
 },
 "nbformat": 4,
 "nbformat_minor": 2
}
